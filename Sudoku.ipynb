{
 "cells": [
  {
   "cell_type": "code",
   "execution_count": 113,
   "id": "ae2e1c42",
   "metadata": {},
   "outputs": [
    {
     "data": {
      "text/plain": [
       "[[5, 3, 4, 6, 7, 8, 9, 1, 2],\n",
       " [6, 7, 2, 1, 9, 5, 3, 4, 8],\n",
       " [1, 9, 8, 3, 4, 2, 5, 6, 7],\n",
       " [8, 5, 9, 7, 6, 1, 4, 2, 3],\n",
       " [4, 2, 6, 8, 5, 3, 7, 9, 1],\n",
       " [7, 1, 3, 9, 2, 4, 8, 5, 6],\n",
       " [9, 6, 1, 5, 3, 7, 2, 8, 4],\n",
       " [2, 8, 7, 4, 1, 9, 6, 3, 5],\n",
       " [3, 4, 5, 2, 8, 6, 1, 7, 9]]"
      ]
     },
     "execution_count": 113,
     "metadata": {},
     "output_type": "execute_result"
    }
   ],
   "source": [
    "grid = [\n",
    "    [5, 3, 4, 6, 7, 8, 9, 1, 2],\n",
    "    [6, 7, 2, 1, 9, 5, 3, 4, 8],\n",
    "    [1, 9, 8, 3, 4, 2, 5, 6, 7],\n",
    "    [8, 5, 9, 7, 6, 1, 4, 2, 3],\n",
    "    [4, 2, 6, 8, 5, 3, 7, 9, 1],\n",
    "    [7, 1, 3, 9, 2, 4, 8, 5, 6],\n",
    "    [9, 6, 1, 5, 3, 7, 2, 8, 4],\n",
    "    [2, 8, 7, 4, 1, 9, 6, 3, 5],\n",
    "    [3, 4, 5, 2, 8, 6, 1, 7, 9]\n",
    "]\n",
    "grid"
   ]
  },
  {
   "cell_type": "code",
   "execution_count": 114,
   "id": "d9e6d7b6",
   "metadata": {},
   "outputs": [
    {
     "data": {
      "text/plain": [
       "True"
      ]
     },
     "execution_count": 114,
     "metadata": {},
     "output_type": "execute_result"
    }
   ],
   "source": [
    "#verifier que chaque ligne contient tt les nombres de 1 à 9\n",
    "def sudoku_checker_ligne (grid) :\n",
    "    for i in range(0,8):\n",
    "        ligne = grid[i]\n",
    "        if sorted(ligne) != [1,2,3,4,5,6,7,8,9] :\n",
    "            return False\n",
    "    return True\n",
    "\n",
    "test = sudoku_checker_ligne(grid)\n",
    "test"
   ]
  },
  {
   "cell_type": "code",
   "execution_count": 115,
   "id": "b34541a6",
   "metadata": {},
   "outputs": [
    {
     "name": "stdout",
     "output_type": "stream",
     "text": [
      "[5, 6, 1, 8, 4, 7, 9, 2, 3]\n",
      "[3, 7, 9, 5, 2, 1, 6, 8, 4]\n",
      "[4, 2, 8, 9, 6, 3, 1, 7, 5]\n",
      "[6, 1, 3, 7, 8, 9, 5, 4, 2]\n",
      "[7, 9, 4, 6, 5, 2, 3, 1, 8]\n",
      "[8, 5, 2, 1, 3, 4, 7, 9, 6]\n",
      "[9, 3, 5, 4, 7, 8, 2, 6, 1]\n",
      "[1, 4, 6, 2, 9, 5, 8, 3, 7]\n",
      "[2, 8, 7, 3, 1, 6, 4, 5, 9]\n"
     ]
    },
    {
     "data": {
      "text/plain": [
       "True"
      ]
     },
     "execution_count": 115,
     "metadata": {},
     "output_type": "execute_result"
    }
   ],
   "source": [
    "#verifier que chaque colonne contient tt les nombres de 1 à 9\n",
    "def sudoku_checker_colonne(grid) :\n",
    "\n",
    "    for i in range(0, 9) :\n",
    "        h = []\n",
    "        for j in range (0, 9) :\n",
    "            h.append(grid[j][i])\n",
    "        print(h)\n",
    "        if sorted(h) !=  [1,2,3,4,5,6,7,8,9] :\n",
    "            print(h)\n",
    "            return False\n",
    "    return True\n",
    "tes2 = sudoku_checker_colonne(grid)\n",
    "tes2"
   ]
  },
  {
   "cell_type": "code",
   "execution_count": 116,
   "id": "9f9fe78c",
   "metadata": {},
   "outputs": [
    {
     "data": {
      "text/plain": [
       "True"
      ]
     },
     "execution_count": 116,
     "metadata": {},
     "output_type": "execute_result"
    }
   ],
   "source": [
    "#veriefier les carrée\n",
    "def checker_carre(grid, l, c) :\n",
    "    liste = []\n",
    "    for i in range(l, l+3) :\n",
    "        for j in range(c, c+3) :\n",
    "            liste.append(grid[i][j])\n",
    "    if sorted(liste) != [1,2,3,4,5,6,7,8,9] :\n",
    "        print(liste)\n",
    "        return False\n",
    "    return True\n",
    "carre1 = checker_carre(grid, 0,0)\n",
    "carre1"
   ]
  },
  {
   "cell_type": "code",
   "execution_count": 117,
   "id": "4b58faac",
   "metadata": {},
   "outputs": [
    {
     "data": {
      "text/plain": [
       "True"
      ]
     },
     "execution_count": 117,
     "metadata": {},
     "output_type": "execute_result"
    }
   ],
   "source": [
    "def checker_carre_total (grid) :\n",
    "    for i in range (0, 9, 3) :\n",
    "        for j in range (0, 9, 3) :\n",
    "            if checker_carre(grid, i, j) == False:\n",
    "                return False\n",
    "    return True\n",
    "carre2 = checker_carre_total(grid)\n",
    "carre2"
   ]
  },
  {
   "cell_type": "code",
   "execution_count": 118,
   "id": "793de791",
   "metadata": {},
   "outputs": [
    {
     "name": "stdout",
     "output_type": "stream",
     "text": [
      "[5, 6, 1, 8, 4, 7, 9, 2, 3]\n",
      "[3, 7, 9, 5, 2, 1, 6, 8, 4]\n",
      "[4, 2, 8, 9, 6, 3, 1, 7, 5]\n",
      "[6, 1, 3, 7, 8, 9, 5, 4, 2]\n",
      "[7, 9, 4, 6, 5, 2, 3, 1, 8]\n",
      "[8, 5, 2, 1, 3, 4, 7, 9, 6]\n",
      "[9, 3, 5, 4, 7, 8, 2, 6, 1]\n",
      "[1, 4, 6, 2, 9, 5, 8, 3, 7]\n",
      "[2, 8, 7, 3, 1, 6, 4, 5, 9]\n"
     ]
    },
    {
     "data": {
      "text/plain": [
       "True"
      ]
     },
     "execution_count": 118,
     "metadata": {},
     "output_type": "execute_result"
    }
   ],
   "source": [
    "#creation fonction sudoku checker\n",
    "def sudoku_checker(grid) :\n",
    "    sudoku_checker_ligne(grid)\n",
    "    sudoku_checker_colonne(grid)\n",
    "    checker_carre_total(grid)\n",
    "    if sudoku_checker_ligne(grid) == True and sudoku_checker_colonne(grid) == True and checker_carre_total(grid) ==True :\n",
    "        return True\n",
    "    else :\n",
    "        return False\n",
    "\n",
    "test = sudoku_checker_colonne(grid)\n",
    "test"
   ]
  }
 ],
 "metadata": {
  "kernelspec": {
   "display_name": "Python 3 (ipykernel)",
   "language": "python",
   "name": "python3"
  },
  "language_info": {
   "codemirror_mode": {
    "name": "ipython",
    "version": 3
   },
   "file_extension": ".py",
   "mimetype": "text/x-python",
   "name": "python",
   "nbconvert_exporter": "python",
   "pygments_lexer": "ipython3",
   "version": "3.10.6"
  },
  "toc": {
   "base_numbering": 1,
   "nav_menu": {},
   "number_sections": true,
   "sideBar": true,
   "skip_h1_title": false,
   "title_cell": "Table of Contents",
   "title_sidebar": "Contents",
   "toc_cell": false,
   "toc_position": {},
   "toc_section_display": true,
   "toc_window_display": false
  }
 },
 "nbformat": 4,
 "nbformat_minor": 5
}
