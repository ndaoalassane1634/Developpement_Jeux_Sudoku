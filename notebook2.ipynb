{
  "nbformat": 4,
  "nbformat_minor": 0,
  "metadata": {
    "colab": {
      "provenance": []
    },
    "kernelspec": {
      "name": "python3",
      "display_name": "Python 3"
    },
    "language_info": {
      "name": "python"
    }
  },
  "cells": [
    {
      "cell_type": "code",
      "execution_count": 12,
      "metadata": {
        "colab": {
          "base_uri": "https://localhost:8080/"
        },
        "id": "moVQyUKcGAfG",
        "outputId": "cb7369ff-4fa7-4575-d137-3fb322fbb41a"
      },
      "outputs": [
        {
          "output_type": "execute_result",
          "data": {
            "text/plain": [
              "False"
            ]
          },
          "metadata": {},
          "execution_count": 12
        }
      ],
      "source": [
        "grille=[\n",
        "    [0,9,3,4,7,8,5,2,6],\n",
        "    [7,2,5,6,9,3,8,4,1],\n",
        "    [4,6,8,5,2,1,3,7,9],\n",
        "    [9,8,7,3,5,6,2,1,4],\n",
        "    [6,5,1,2,8,4,9,3,7],\n",
        "    [2,3,4,9,1,7,6,5,8],\n",
        "    [3,4,2,1,6,9,7,8,5],\n",
        "    [5,7,6,8,4,2,1,9,3],\n",
        "    [8,1,9,7,3,5,4,6,2]\n",
        "]\n",
        "\n",
        "def check_ligne(grille):\n",
        "  for i in range(9):\n",
        "    if sorted(grille[i]) !=[1,2,3,4,5,6,7,8,9]:\n",
        "      return False\n",
        "  return True\n",
        "\n",
        "def check_col(grille):\n",
        "  for i in range(9):\n",
        "    col=[]\n",
        "    for j in range(9):\n",
        "      col.append(grille[i][j])\n",
        "    if sorted(col) !=[1,2,3,4,5,6,7,8,9]:\n",
        "      return False\n",
        "  return True\n",
        "\n",
        "def check_carre(grille,a,b):\n",
        "  carre=[]\n",
        "  for i in range(a,a+3):\n",
        "    for j in range(b,b+3):\n",
        "      carre.append(grille[i][j])\n",
        "  if sorted(carre)!=[1,2,3,4,5,6,7,8,9]:\n",
        "    return False\n",
        "\n",
        "def check_carre_grille(grille):\n",
        "  for x in range(0,9,3):\n",
        "    for y in range(0,9,3):\n",
        "      if check_carre(grille,x,y) is False:\n",
        "        return False\n",
        "  return True\n",
        "\n",
        "\n",
        "check_carre_grille(grille)\n",
        "\n",
        "def sudoku_checker(grille):\n",
        "  return check_carre_grille(grille) and check_col(grille) and check_ligne(grille)\n",
        "\n",
        "sudoku_checker(grille)\n",
        "\n"
      ]
    },
    {
      "cell_type": "code",
      "source": [
        "def case_vide(grille):\n",
        "  for i in range(9):\n",
        "    for j in range(9):\n",
        "      if grille[i][j]==0:\n",
        "        return i,j\n",
        "  return None, None\n",
        "\n",
        "\n",
        "def ligne_valide(n,x,grille):\n",
        "  return not n in grille[x]\n",
        "\n",
        "def col_valide(n,y,grille):\n",
        "  col=[]\n",
        "  for i in range(9):\n",
        "    col.append(grille[i][y])\n",
        "  return not n in col\n",
        "\n",
        "\n",
        "def choix_carre(x, y):\n",
        "    return (x // 3) * 3, (y // 3) * 3\n",
        "\n",
        "def carre_valide(n,x,y,grille):\n",
        "  hor, ver = choix_carre(x,y)\n",
        "  liste_carre=[]\n",
        "  for i in range (hor,hor+3):\n",
        "    for j in range (ver, ver+3):\n",
        "      liste_carre.append(grille[i][j])\n",
        "  return not n in liste_carre\n",
        "\n",
        "def chiffre_valide(n,x,y,grille):\n",
        "  return ligne_valide(n,x,grille) and col_valide(n,y,grille) and carre_valide(n,x,y,grille)\n",
        "\n",
        "chiffre_valide(1,0,0,grille)\n",
        "\n"
      ],
      "metadata": {
        "colab": {
          "base_uri": "https://localhost:8080/"
        },
        "id": "vfXPG6tHR2Lk",
        "outputId": "c3d835bd-b1f1-4784-8e12-abcab7a1a2e0"
      },
      "execution_count": 13,
      "outputs": [
        {
          "output_type": "execute_result",
          "data": {
            "text/plain": [
              "True"
            ]
          },
          "metadata": {},
          "execution_count": 13
        }
      ]
    },
    {
      "cell_type": "markdown",
      "source": [],
      "metadata": {
        "id": "aLwdqFSZVqy2"
      }
    },
    {
      "cell_type": "code",
      "source": [
        "def afficher_grille(grille):\n",
        "    ligne = \"-\" * 23\n",
        "    print(ligne)\n",
        "    for i in range(len(grille)):\n",
        "        if i % 3 == 0 and i != 0:\n",
        "            print(ligne)\n",
        "        for j in range(len(grille[0])):\n",
        "            if j % 3 == 0 and j != 0:\n",
        "                print(\" | \", end=\"\")\n",
        "            if j == 8:\n",
        "                print(grille[i][j])\n",
        "            else:\n",
        "                print(str(grille[i][j]) + \" \", end=\"\")\n",
        "    print(ligne)\n"
      ],
      "metadata": {
        "id": "k7z3X3waskBc"
      },
      "execution_count": 27,
      "outputs": []
    },
    {
      "cell_type": "code",
      "source": [
        "def solver(grille):\n",
        "  ligne,colonne = case_vide(grille)\n",
        "  if ligne is None:\n",
        "    return True\n",
        "  for i in range(1,10):\n",
        "    if chiffre_valide(i,ligne,colonne,grille):\n",
        "      grille[ligne][colonne]=i\n",
        "      afficher_grille(grille)\n",
        "      if solver(grille):\n",
        "        return True\n",
        "      grille[ligne][colonne]=0\n",
        "      afficher_grille(grille)\n",
        "  return False\n",
        "\n",
        "solver(grille)"
      ],
      "metadata": {
        "colab": {
          "base_uri": "https://localhost:8080/"
        },
        "id": "ggmURoK6f3QX",
        "outputId": "43cbede3-4d0a-4d07-ae3c-db0f3f9f8bd1"
      },
      "execution_count": 23,
      "outputs": [
        {
          "output_type": "execute_result",
          "data": {
            "text/plain": [
              "True"
            ]
          },
          "metadata": {},
          "execution_count": 23
        }
      ]
    },
    {
      "cell_type": "code",
      "source": [
        "\n",
        "\n",
        "def remplir_carre(grille,x,y):\n",
        "  liste=random.sample(range(1,10),9)\n",
        "  compteur=0\n",
        "  for i in range(x,x+3):\n",
        "    for j in range(y,y+3):\n",
        "      grille[i][j]=liste[compteur]\n",
        "      compteur+=1\n",
        "  return grille\n",
        "\n",
        "def remplir_carre_diag(grille):\n",
        "  for i in range(0,9,3):\n",
        "    grille=remplir_carre(grille,i,i)\n",
        "  return grille\n",
        "\n",
        "remplir_carre_diag(grille_vide)\n",
        "\n"
      ],
      "metadata": {
        "colab": {
          "base_uri": "https://localhost:8080/"
        },
        "id": "u07u9ajcvAyP",
        "outputId": "c05658ad-319f-4374-9a10-c4b8b4bbed8c"
      },
      "execution_count": 16,
      "outputs": [
        {
          "output_type": "execute_result",
          "data": {
            "text/plain": [
              "[[2, 7, 6, 0, 0, 0, 0, 0, 0],\n",
              " [1, 8, 9, 0, 0, 0, 0, 0, 0],\n",
              " [3, 4, 5, 0, 0, 0, 0, 0, 0],\n",
              " [0, 0, 0, 7, 5, 2, 0, 0, 0],\n",
              " [0, 0, 0, 4, 1, 9, 0, 0, 0],\n",
              " [0, 0, 0, 3, 6, 8, 0, 0, 0],\n",
              " [0, 0, 0, 0, 0, 0, 8, 6, 9],\n",
              " [0, 0, 0, 0, 0, 0, 7, 5, 1],\n",
              " [0, 0, 0, 0, 0, 0, 3, 4, 2]]"
            ]
          },
          "metadata": {},
          "execution_count": 16
        }
      ]
    },
    {
      "cell_type": "code",
      "source": [
        "def remplir_grille(grille, x=0, y=0):\n",
        "  if x==9: #dépassement derniere ligne\n",
        "    return True # cas de base, tt est rempli\n",
        "  if grille[x][y]!=0: #si la case est déja remplie\n",
        "    if y==8: #passer à la ligne suivante en arrivant au bout de la colonne\n",
        "      return remplir_grille(grille, x+1, 0)\n",
        "    else: #colonne suivante\n",
        "      return remplir_grille(grille, x, y+1)\n",
        "  for i in range(1,10): #tester les chiffres\n",
        "    if chiffre_valide(i,x,y,grille):\n",
        "      grille[x][y]=i #si ok, le placer ds la grille\n",
        "      if y==8: #ligne suivante en bout de colonne\n",
        "        if remplir_grille(grille, x+1, 0):\n",
        "          return True\n",
        "      else: #colonne suivante\n",
        "        if remplir_grille(grille, x, y+1):\n",
        "          return True\n",
        "      grille[x][y]=0\n",
        "  return False #déclenche le backtrack si aucun chiffre trouvé\n",
        "\n",
        "def generation_grille():\n",
        "  grille=[[0] * 9 for _ in range(9)]\n",
        "  remplir_carre_diag(grille)\n",
        "  remplir_grille(grille)\n",
        "  return grille\n",
        "\n",
        "afficher_grille(generation_grille())\n",
        "\n",
        "\n",
        "\n",
        "\n",
        "\n",
        "\n"
      ],
      "metadata": {
        "colab": {
          "base_uri": "https://localhost:8080/"
        },
        "id": "3fkXxZCBDQce",
        "outputId": "3e5e7bb6-1f07-4aea-f97b-874426d3c2b9"
      },
      "execution_count": 28,
      "outputs": [
        {
          "output_type": "stream",
          "name": "stdout",
          "text": [
            "-----------------------\n",
            "3 8 6  | 1 4 2  | 7 9 5\n",
            "1 7 4  | 5 3 9  | 2 6 8\n",
            "5 2 9  | 7 8 6  | 1 3 4\n",
            "-----------------------\n",
            "2 4 8  | 3 9 7  | 6 5 1\n",
            "9 1 7  | 6 2 5  | 8 4 3\n",
            "6 5 3  | 4 1 8  | 9 7 2\n",
            "-----------------------\n",
            "7 3 1  | 8 6 4  | 5 2 9\n",
            "8 9 5  | 2 7 3  | 4 1 6\n",
            "4 6 2  | 9 5 1  | 3 8 7\n",
            "-----------------------\n"
          ]
        }
      ]
    }
  ]
}